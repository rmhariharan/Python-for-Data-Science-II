{
 "cells": [
  {
   "cell_type": "code",
   "execution_count": null,
   "metadata": {
    "collapsed": true
   },
   "outputs": [],
   "source": [
    "import pandas as pd\n",
    "import numpy as np\n",
    "import matplotlib.pylab as plt\n",
    "import seaborn as sns\n",
    "sns.set()\n",
    "\n",
    "%matplotlib inline"
   ]
  },
  {
   "cell_type": "code",
   "execution_count": null,
   "metadata": {
    "collapsed": false
   },
   "outputs": [],
   "source": [
    "wage_df = pd.read_csv(\"C:/Users/rharihar/Desktop/GA_Class/Wage.csv\")\n",
    "wage_df.head()"
   ]
  },
  {
   "cell_type": "code",
   "execution_count": null,
   "metadata": {
    "collapsed": false
   },
   "outputs": [],
   "source": [
    "# Making simple scatter plots with matplotlib\n",
    "\n",
    "wage_df.plot(x = \"age\", y = \"wage\", kind = \"scatter\")"
   ]
  },
  {
   "cell_type": "code",
   "execution_count": null,
   "metadata": {
    "collapsed": true
   },
   "outputs": [],
   "source": [
    "wage_df.plot(x = \"age\", y = \"wage\", kind = \"scatter\",figsize = (10,8),title = \"Relationship between age and wage\")"
   ]
  },
  {
   "cell_type": "code",
   "execution_count": null,
   "metadata": {
    "collapsed": false
   },
   "outputs": [],
   "source": [
    "fig = sns.pairplot(wage_df,x_vars = \"age\", y_vars = \"wage\",kind = \"reg\")"
   ]
  },
  {
   "cell_type": "code",
   "execution_count": null,
   "metadata": {
    "collapsed": false
   },
   "outputs": [],
   "source": [
    "# Fiure aesthetics can be controlled through sns.set_style(). Five different background grids are available.\n",
    "#sns.set_style(\"whitegrid\")\n",
    "sns.set_style(\"ticks\")\n",
    "#sns.despine(offset = 10, trim = True)\n",
    "fig = sns.pairplot(wage_df,x_vars = \"age\", y_vars = \"wage\",kind = \"reg\")\n",
    "sns.despine(trim = True, top = False, right = False) # only makes sense to use this after you make the plot !\n",
    "\n"
   ]
  },
  {
   "cell_type": "code",
   "execution_count": null,
   "metadata": {
    "collapsed": false
   },
   "outputs": [],
   "source": [
    "sns.set_style(\"darkgrid\",{\"axes.facecolor\" : \"0.4\"})\n",
    "#sns.despine(offset = 10, trim = True)\n",
    "fig = sns.pairplot(wage_df,x_vars = \"age\", y_vars = \"wage\",kind = \"reg\")"
   ]
  },
  {
   "cell_type": "code",
   "execution_count": null,
   "metadata": {
    "collapsed": false
   },
   "outputs": [],
   "source": [
    "# Figure scale can be conotrolled using sns.set_context. Four contexts in order to size: paper, notebook, talk, poster\n",
    "\n",
    "\n",
    "sns.set_style(\"darkgrid\",{\"axes.facecolor\" : \"0.9\"})\n",
    "sns.set_context(\"poster\",font_scale = 1.0)\n",
    "#sns.despine(offset = 10, trim = True)\n",
    "sns.pairplot(wage_df,x_vars = \"age\", y_vars = \"wage\",kind = \"reg\",size = 5,aspect = 1.5)\n"
   ]
  },
  {
   "cell_type": "markdown",
   "metadata": {
    "collapsed": false
   },
   "source": [
    "# Drill time\n",
    "\n"
   ]
  },
  {
   "cell_type": "markdown",
   "metadata": {},
   "source": [
    "Can you plot the relationship between education and wage earned as box plots ?"
   ]
  },
  {
   "cell_type": "code",
   "execution_count": null,
   "metadata": {
    "collapsed": false
   },
   "outputs": [],
   "source": [
    "# Solution\n",
    "sns.boxplot(data = wage_df, x = \"education\", y = \"wage\")"
   ]
  },
  {
   "cell_type": "markdown",
   "metadata": {},
   "source": [
    "Can we have a different color scheme here ?"
   ]
  },
  {
   "cell_type": "code",
   "execution_count": null,
   "metadata": {
    "collapsed": false
   },
   "outputs": [],
   "source": [
    "# solution\n",
    "sns.boxplot(data = wage_df, x = \"education\", y = \"wage\",palette = \"Spectral\")"
   ]
  },
  {
   "cell_type": "markdown",
   "metadata": {},
   "source": [
    "Can you plot the relationship between marital status and wage earned as box plots ?"
   ]
  },
  {
   "cell_type": "code",
   "execution_count": null,
   "metadata": {
    "collapsed": false
   },
   "outputs": [],
   "source": [
    "# solution\n",
    "sns.boxplot(data = wage_df, x = \"maritl\", y = \"wage\",palette = \"Spectral\")"
   ]
  },
  {
   "cell_type": "code",
   "execution_count": null,
   "metadata": {
    "collapsed": true
   },
   "outputs": [],
   "source": []
  }
 ],
 "metadata": {
  "kernelspec": {
   "display_name": "Python 3",
   "language": "python",
   "name": "python3"
  },
  "language_info": {
   "codemirror_mode": {
    "name": "ipython",
    "version": 3
   },
   "file_extension": ".py",
   "mimetype": "text/x-python",
   "name": "python",
   "nbconvert_exporter": "python",
   "pygments_lexer": "ipython3",
   "version": "3.5.2"
  }
 },
 "nbformat": 4,
 "nbformat_minor": 0
}
